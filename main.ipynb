{
 "cells": [
  {
   "cell_type": "code",
   "execution_count": null,
   "metadata": {
    "collapsed": true
   },
   "outputs": [],
   "source": [
    "%matplotlib inline\n",
    "import pandas as pd\n",
    "from matplotlib import pyplot as plt\n",
    "from mpl_toolkits.mplot3d import Axes3D\n",
    "import tensorflow as tf\n",
    "import numpy as np\n",
    "from sklearn.model_selection import train_test_split"
   ]
  },
  {
   "cell_type": "code",
   "execution_count": null,
   "metadata": {},
   "outputs": [],
   "source": [
    "points_df = pd.read_csv(\"3d_points.csv\")\n",
    "points_df = points_df.sample(frac=1).reset_index(drop=True)\n",
    "one_hot = {0:[1,0],1:[0,1]}\n",
    "points_df[\"class\"] = [one_hot[a] for a in points_df[\"class\"]]\n",
    "# print train_df.shape, test_df.shape"
   ]
  },
  {
   "cell_type": "code",
   "execution_count": null,
   "metadata": {},
   "outputs": [],
   "source": [
    "train_df, test_df = train_test_split(points_df, test_size = 0.2)\n",
    "train_data = train_df[[\"x\",\"y\",\"z\"]].values\n",
    "test_data = test_df[[\"x\",\"y\",\"z\"]].values\n",
    "print train_data.shape,test_data.shape"
   ]
  },
  {
   "cell_type": "code",
   "execution_count": null,
   "metadata": {},
   "outputs": [],
   "source": [
    "train_labels = []\n",
    "test_labels = []\n",
    "for label in train_df[\"class\"]:\n",
    "    train_labels.append(label)\n",
    "for label in test_df[\"class\"]:\n",
    "    test_labels.append(label)\n",
    "train_labels = np.array(train_labels)\n",
    "test_labels = np.array(test_labels)\n",
    "print train_labels.shape,test_labels.shape"
   ]
  },
  {
   "cell_type": "code",
   "execution_count": null,
   "metadata": {},
   "outputs": [],
   "source": [
    "def plot_df(df):\n",
    "    colors = {0:\"r\",1:\"g\"}\n",
    "    c = [colors[a] for a in df[\"class\"]]\n",
    "    fig = plt.figure()\n",
    "    ax = Axes3D(fig)\n",
    "    ax.scatter(df[\"x\"],df[\"y\"],df[\"z\"],c=c)"
   ]
  },
  {
   "cell_type": "code",
   "execution_count": null,
   "metadata": {
    "collapsed": true
   },
   "outputs": [],
   "source": [
    "def plot_points(points,labels,epoch):\n",
    "    colors = {0:\"r\",1:\"g\"}\n",
    "#     print labels\n",
    "    c = [colors[a] for a in labels]\n",
    "    fig = plt.figure()\n",
    "    ax = Axes3D(fig)\n",
    "    ax.scatter(points[:,0],points[:,1],points[:,2],c=c)\n",
    "    plt.savefig(\"Epoch{}.png\".format(epoch))"
   ]
  },
  {
   "cell_type": "code",
   "execution_count": null,
   "metadata": {},
   "outputs": [],
   "source": [
    "X = tf.placeholder(tf.float32,[None,3])\n",
    "Y = tf.placeholder(tf.float32)\n",
    "num_h1_nodes = 3\n",
    "num_h2_nodes = 4\n",
    "n_classes = 2\n",
    "batch_size=100\n",
    "h1_layer = {\"weights\":tf.Variable(tf.random_normal([3,num_h1_nodes])),\"biases\":tf.Variable(tf.random_normal([num_h1_nodes]))}\n",
    "h2_layer = {\"weights\":tf.Variable(tf.random_normal([num_h1_nodes,num_h2_nodes])),\"biases\":tf.Variable(tf.random_normal([num_h2_nodes]))}\n",
    "op_layer = {\"weights\":tf.Variable(tf.random_normal([num_h2_nodes,n_classes])),\"biases\":tf.Variable(tf.random_normal([n_classes]))}\n",
    "hl1 = tf.add(tf.matmul(X,h1_layer[\"weights\"]),h1_layer[\"biases\"])\n",
    "hl1 = tf.nn.relu(hl1)\n",
    "\n",
    "hl2 = tf.add(tf.matmul(hl1,h2_layer[\"weights\"]),h2_layer[\"biases\"])\n",
    "hl2 = tf.nn.relu(hl2)\n",
    "\n",
    "Y_pred = tf.add(tf.matmul(hl2,op_layer[\"weights\"]),op_layer[\"biases\"])\n",
    "cost = tf.reduce_mean(tf.nn.softmax_cross_entropy_with_logits(logits=Y_pred,labels=Y))\n",
    "\n",
    "optimiser = tf.train.AdamOptimizer(learning_rate=0.02).minimize(cost)\n",
    "\n",
    "\n",
    "\n",
    "num_epochs = 10000\n",
    "with tf.Session() as sess:\n",
    "    sess.run(tf.global_variables_initializer())\n",
    "    for epoch in range(num_epochs):\n",
    "        _,cost_val,weights = sess.run([optimiser,cost,h1_layer[\"weights\"]],feed_dict={X:train_data,Y:train_labels})\n",
    "        if epoch%(num_epochs/10)==0:\n",
    "            print \"Epoch: {}, Loss: {}, Weight: {}\".format(epoch,cost_val,weights[0])\n",
    "            correct = tf.equal(tf.argmax(Y_pred,1),tf.argmax(Y,1))\n",
    "            accuracy = tf.reduce_mean(tf.cast(correct, 'float'))\n",
    "            print 'Accuracy:',accuracy.eval({X:test_data, Y:test_labels})\n",
    "            test_output = sess.run(Y_pred,feed_dict={X:test_data, Y:test_labels})\n",
    "            output_labels = np.array(test_output).argmax(axis=1)\n",
    "#             print output_labels\n",
    "            plot_points(test_data,output_labels,epoch)\n",
    "    "
   ]
  },
  {
   "cell_type": "code",
   "execution_count": null,
   "metadata": {
    "collapsed": true
   },
   "outputs": [],
   "source": []
  }
 ],
 "metadata": {
  "kernelspec": {
   "display_name": "Python 2",
   "language": "python",
   "name": "python2"
  },
  "language_info": {
   "codemirror_mode": {
    "name": "ipython",
    "version": 2
   },
   "file_extension": ".py",
   "mimetype": "text/x-python",
   "name": "python",
   "nbconvert_exporter": "python",
   "pygments_lexer": "ipython2",
   "version": "2.7.12"
  }
 },
 "nbformat": 4,
 "nbformat_minor": 2
}
